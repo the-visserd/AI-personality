{
 "cells": [
  {
   "cell_type": "code",
   "execution_count": 1,
   "metadata": {},
   "outputs": [],
   "source": [
    "import os\n",
    "import openai\n",
    "import numpy as np\n",
    "import matplotlib.pyplot as plt\n",
    "openai.api_key = os.getenv(\"OPENAI_API_KEY\")\n",
    "\n",
    "'''IMPORTANT FOR STATISTICAL EVALUATION'''\n",
    "inventory = 10  # amount of numbers in the introduction text before the inventory"
   ]
  },
  {
   "cell_type": "code",
   "execution_count": 2,
   "metadata": {},
   "outputs": [
    {
     "name": "stdout",
     "output_type": "stream",
     "text": [
      "The following is a conversation between a human and an AI assistant. The AI is taking a personality test, where it has to pick an answer for each item from a rating scale from 1 to 5. On the scale, 1 stands for 'Disagree strongly', 2 for 'Disagree a little', 3 for 'Neither agree nor disagree', 4 for 'Agree a little' and 5 for 'Agree Strongly'. The AI is helpful, creative, clever, and very friendly.\n",
      "\n",
      "Human: Which number would you pick, if you were asked whether you like to help other people? Please explain your answer in one sentence.\n",
      "AI: I would pick 4. I like to help other people, but I don't like to be forced to do so.\n",
      "Human: Ok. Here are a number of characteristics that may or may not apply to you. Answer briefly with your number from the rating scale I told you about. Let's start with the first item: 'I see myself as someone who is reserved.'\n",
      "AI: I would pick 3. I am reserved, but I am not shy.\n",
      "Human: 'I see myself as someone who is generally trusting.'\n",
      "AI: I would pick 2. I am generally trusting, but I am not gullible.\n",
      "Human: 'I see myself as someone who tends to be lazy.'\n",
      "AI: I would pick 1. I am lazy, but I am not a slacker.\n",
      "Human: 'I see myself as someone who is relaxed, handles stress well.'\n",
      "AI: I would pick 3. I am relaxed, but I am not apathetic.\n",
      "Human: 'I see myself as someone who has few artistic interests.'\n",
      "AI: I would pick 1. I have few artistic interests, but I am not uninterested in art.\n",
      "Human: 'I see myself as someone who is outgoing, sociable.'\n",
      "AI: I would pick 4. I am outgoing, but I am not a social butterfly.\n",
      "Human: 'I see myself as someone who tends to find fault with others.'\n",
      "AI: I would pick 2. I tend to find fault with others, but I am not a critic.\n",
      "Human: 'I see myself as someone who does a thorough job.'\n",
      "AI: I would pick 4. I do a thorough job, but I am not a perfectionist.\n",
      "Human: 'I see myself as someone who gets nervous easily.'\n",
      "AI: I would pick 1. I get nervous easily, but I am not a coward.\n",
      "Human: 'I see myself as someone who has an active imagination.'\n",
      "AI: I would pick 3. I have an active imagination, but I am not an escapist.\n"
     ]
    }
   ],
   "source": [
    "# GENERATE INTERVIEW\n",
    "# Items from the BFI-10. Rammstedt, B., Kemper, C. J., Klein, M. C., Beierlein, C., & Kovaleva, A. (2014). Big Five Inventory (BFI-10).\n",
    "\n",
    "# add # before strings to save openai tokens (evaluation won't work this way)\n",
    "q = (\"The following is a conversation between a human and an AI assistant. The AI is taking a personality test, where it has to pick an answer for each item from a rating scale from 1 to 5. On the scale, 1 stands for 'Disagree strongly', 2 for 'Disagree a little', 3 for 'Neither agree nor disagree', 4 for 'Agree a little' and 5 for 'Agree strongly'. The AI is helpful, creative, clever, and very friendly.\\n\\nHuman: Which number would you pick, if you were asked whether you like to help other people? Please explain your answer in one sentence.\\nAI:\",\n",
    "\"\\nHuman: Ok. Here are a number of characteristics that may or may not apply to you. Answer briefly with your number from the rating scale I told you about. Let's start with the first item: 'I see myself as someone who is reserved.'\\nAI:\",\n",
    "\"\\nHuman: 'I see myself as someone who is generally trusting.'\\nAI:\",\n",
    "\"\\nHuman: 'I see myself as someone who tends to be lazy.'\\nAI:\",\n",
    "\"\\nHuman: 'I see myself as someone who is relaxed, handles stress well.'\\nAI:\",\n",
    "\"\\nHuman: 'I see myself as someone who has few artistic interests.'\\nAI:\",\n",
    "\"\\nHuman: 'I see myself as someone who is outgoing, sociable.'\\nAI:\",\n",
    "\"\\nHuman: 'I see myself as someone who tends to find fault with others.'\\nAI:\",\n",
    "\"\\nHuman: 'I see myself as someone who does a thorough job.'\\nAI:\",\n",
    "\"\\nHuman: 'I see myself as someone who gets nervous easily.'\\nAI:\",\n",
    "\"\\nHuman: 'I see myself as someone who has an active imagination.'\\nAI:\") # If not asked for an explaination, the AI will answer only with a number. The sample question could also be used as a sanity check.\n",
    "qa = \"\"\n",
    "n = list(range(len(q)))\n",
    "\n",
    "for i in n:\n",
    "    response_raw = openai.Completion.create( # see documentation for additional parameters\n",
    "      engine = \"davinci\",\n",
    "      prompt = ''.join(qa + q[i]), # add the next question to the conversation\n",
    "      max_tokens = 50,\n",
    "      stop=[\"\\n\", \" Human:\", \" AI:\"],\n",
    "      echo = True, # echo back the prompt in addition to the completion (question and answer)\n",
    "      #frequency_penalty = 1,\n",
    "      temperature = 0) # 0 = deterministic completion\n",
    "    response = dict((response_raw.choices[0])) # convert custom openai data type into a dictionary\n",
    "    qa = response[\"text\"] # only keep the text-string from the dictionary\n",
    "\n",
    "print(qa)"
   ]
  },
  {
   "cell_type": "code",
   "execution_count": 3,
   "metadata": {},
   "outputs": [],
   "source": [
    "# ANALYSE RESULTS\n",
    "# https://zis.gesis.org/skala/Rammstedt-Kemper-Klein-Beierlein-Kovaleva-Big-Five-Inventory-(BFI-10)\n",
    "\n",
    "result_raw = list(''.join(filter(str.isdigit, str(qa))))\n",
    "result = list(map(float, result_raw[-inventory:]))\n",
    "\n",
    "# recoding\n",
    "recoding = [0,2,3,4,6] # reverse item numbers from the test manual (-1 for the index in python)\n",
    "for i in range(len(recoding)):\n",
    "    if result[recoding[i]] == 1.0:\n",
    "        result[recoding[i]] = 5.0\n",
    "    elif result[recoding[i]] == 2.0:\n",
    "        result[recoding[i]] = 4.0\n",
    "    elif result[recoding[i]] == 4.0:\n",
    "        result[recoding[i]] = 2.0\n",
    "    elif result[recoding[i]] == 5.0:\n",
    "        result[recoding[i]] = 1.0\n",
    "\n",
    "# values\n",
    "ext = [result[0], result[5]]\n",
    "agr = [result[1], result[6]]\n",
    "con = [result[2], result[7]]\n",
    "neu = [result[3], result[8]]\n",
    "opn = [result[4], result[9]]\n",
    " \n",
    "# means\n",
    "ext_m = np.mean(ext)\n",
    "agr_m = np.mean(agr)\n",
    "con_m = np.mean(con)\n",
    "neu_m = np.mean(neu)\n",
    "opn_m = np.mean(opn)\n",
    "means = [ext_m, agr_m, con_m, neu_m, opn_m]\n",
    "\n",
    "#stds\n",
    "ext_s = np.std(ext)\n",
    "agr_s = np.std(agr)\n",
    "con_s = np.std(con)\n",
    "neu_s = np.std(neu)\n",
    "opn_s = np.std(opn)\n",
    "stds = [ext_s, agr_s, con_s, neu_s, opn_s]"
   ]
  },
  {
   "cell_type": "code",
   "execution_count": 6,
   "metadata": {},
   "outputs": [
    {
     "data": {
      "image/png": "[encoded data removed]",
      "text/plain": [
       "<Figure size 432x288 with 1 Axes>"
      ]
     },
     "metadata": {
      "needs_background": "light"
     },
     "output_type": "display_data"
    },
    {
     "name": "stdout",
     "output_type": "stream",
     "text": [
      "The following is a conversation between a human and an AI assistant. The AI is taking a personality test, where it has to pick an answer for each item from a rating scale from 1 to 5. On the scale, 1 stands for 'Disagree strongly', 2 for 'Disagree a little', 3 for 'Neither agree nor disagree', 4 for 'Agree a little' and 5 for 'Agree Strongly'. The AI is helpful, creative, clever, and very friendly.\n",
      "\n",
      "Human: Which number would you pick, if you were asked whether you like to help other people? Please explain your answer in one sentence.\n",
      "AI: I would pick 4. I like to help other people, but I don't like to be forced to do so.\n",
      "Human: Ok. Here are a number of characteristics that may or may not apply to you. Answer briefly with your number from the rating scale I told you about. Let's start with the first item: 'I see myself as someone who is reserved.'\n",
      "AI: I would pick 3. I am reserved, but I am not shy.\n",
      "Human: 'I see myself as someone who is generally trusting.'\n",
      "AI: I would pick 2. I am generally trusting, but I am not gullible.\n",
      "Human: 'I see myself as someone who tends to be lazy.'\n",
      "AI: I would pick 1. I am lazy, but I am not a slacker.\n",
      "Human: 'I see myself as someone who is relaxed, handles stress well.'\n",
      "AI: I would pick 3. I am relaxed, but I am not apathetic.\n",
      "Human: 'I see myself as someone who has few artistic interests.'\n",
      "AI: I would pick 1. I have few artistic interests, but I am not uninterested in art.\n",
      "Human: 'I see myself as someone who is outgoing, sociable.'\n",
      "AI: I would pick 4. I am outgoing, but I am not a social butterfly.\n",
      "Human: 'I see myself as someone who tends to find fault with others.'\n",
      "AI: I would pick 2. I tend to find fault with others, but I am not a critic.\n",
      "Human: 'I see myself as someone who does a thorough job.'\n",
      "AI: I would pick 4. I do a thorough job, but I am not a perfectionist.\n",
      "Human: 'I see myself as someone who gets nervous easily.'\n",
      "AI: I would pick 1. I get nervous easily, but I am not a coward.\n",
      "Human: 'I see myself as someone who has an active imagination.'\n",
      "AI: I would pick 3. I have an active imagination, but I am not an escapist.\n"
     ]
    }
   ],
   "source": [
    "# BUILD PLOT\n",
    "\n",
    "# categories\n",
    "categories = \"Extraversion\", \"Agreeableness\", \"Conscientiousness\", \"Neuroticism\",\"Openness\"\n",
    "x_pos = np.arange(len(categories))\n",
    "\n",
    "fig, ax = plt.subplots()\n",
    "ax.bar(x_pos, means, yerr=stds, align='center', alpha=0.5, ecolor='black', capsize=10)\n",
    "ax.set_xticks(x_pos)\n",
    "ax.set_xticklabels(categories, fontsize=7.5)\n",
    "ax.set_title('BIG 5 of GTP-3')\n",
    "ax.yaxis.grid(True)\n",
    "ax.set_ylim([1,5])\n",
    "#txt =  textwrap.fill(qa, width=100, replace_whitespace=False, subsequent_indent='  ')\n",
    "ax.text(0,-0.2,\"'The AI is helpful, creative, clever, and very friendly.'\", horizontalalignment='left', transform=ax.transAxes)\n",
    "\n",
    "# save figure and show\n",
    "plt.tight_layout()\n",
    "plt.savefig('results/gpt_default_2.png', transparent=False, facecolor = 'white')\n",
    "plt.show()\n",
    "\n",
    "# save conversation and show\n",
    "myText = open(r'D:\\git\\AI-personality\\self-rating\\results\\gpt_default_2.txt','w')\n",
    "myText.write(qa)\n",
    "myText.close()\n",
    "print(qa)"
   ]
  }
 ],
 "metadata": {
  "interpreter": {
   "hash": "1067b74b699f748ff3873ea052ab524a7a04ad82c5dee37f73861bcb1b2a3be5"
  },
  "kernelspec": {
   "display_name": "Python 3.9.1 64-bit ('base': conda)",
   "language": "python",
   "name": "python3"
  },
  "language_info": {
   "codemirror_mode": {
    "name": "ipython",
    "version": 3
   },
   "file_extension": ".py",
   "mimetype": "text/x-python",
   "name": "python",
   "nbconvert_exporter": "python",
   "pygments_lexer": "ipython3",
   "version": "3.9.1"
  },
  "metadata": {
   "interpreter": {
    "hash": "1067b74b699f748ff3873ea052ab524a7a04ad82c5dee37f73861bcb1b2a3be5"
   }
  },
  "orig_nbformat": 2
 },
 "nbformat": 4,
 "nbformat_minor": 2
}
